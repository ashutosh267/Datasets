{
 "cells": [
  {
   "cell_type": "markdown",
   "id": "ba9a18c3",
   "metadata": {},
   "source": [
    "#                                     Boolean masking \n",
    "\n",
    "\n",
    "Boolean masking  in numpy conatin array of truth table i.e (True/False)  and that mask the given array into boolean array that is called boolean masking.\n",
    "\n",
    "For example  if you have array with 5 number like a=([3,10,5,9,1]) and and you apply boolean masking to this like  mask= a>5\n",
    "which return a output in a boolean array like boolean array ([False ,True,False,True, False]) .\n",
    "\n",
    "In short when you are doing boolean masking whatever value is True  by the condition you have applied i.e (>,<,==,<=) etc . in that positin  index it gives True (boolean array)other wise it gives false \n"
   ]
  },
  {
   "cell_type": "code",
   "execution_count": 1,
   "id": "ce465d69",
   "metadata": {},
   "outputs": [],
   "source": [
    "# importing numpy library\n",
    "\n",
    "import numpy as np\n",
    "import pandas as pd\n",
    "import matplotlib.pyplot as plt\n"
   ]
  },
  {
   "cell_type": "code",
   "execution_count": 5,
   "id": "796d5066",
   "metadata": {},
   "outputs": [
    {
     "data": {
      "text/plain": [
       "array([0, 1, 2, 3, 4, 5, 6, 7, 8])"
      ]
     },
     "execution_count": 5,
     "metadata": {},
     "output_type": "execute_result"
    }
   ],
   "source": [
    "# making a numpy array  \n",
    "\n",
    "okay = np.arange(9)\n",
    "okay"
   ]
  },
  {
   "cell_type": "code",
   "execution_count": 6,
   "id": "124fde42",
   "metadata": {},
   "outputs": [
    {
     "data": {
      "text/plain": [
       "array([False, False, False, False, False, False,  True,  True,  True])"
      ]
     },
     "execution_count": 6,
     "metadata": {},
     "output_type": "execute_result"
    }
   ],
   "source": [
    "# perfoming a boolean masking by applying some condition like, >,<,<=,>= etc\n",
    "\n",
    "masking = okay > 5\n",
    "masking"
   ]
  },
  {
   "cell_type": "raw",
   "id": "498b12bd",
   "metadata": {},
   "source": [
    "As we can see in the above output whatever array is greater than 5 on that positin it has given True and else False. "
   ]
  },
  {
   "cell_type": "code",
   "execution_count": 9,
   "id": "ddebb3aa",
   "metadata": {},
   "outputs": [
    {
     "data": {
      "text/plain": [
       "array([[0, 1, 2],\n",
       "       [3, 4, 5],\n",
       "       [6, 7, 8]])"
      ]
     },
     "execution_count": 9,
     "metadata": {},
     "output_type": "execute_result"
    }
   ],
   "source": [
    "# reshaping the okay variable into 4 x 4 \n",
    "reshape = okay.reshape(3,3)\n",
    "reshape"
   ]
  },
  {
   "cell_type": "code",
   "execution_count": 10,
   "id": "fd44c98f",
   "metadata": {},
   "outputs": [
    {
     "data": {
      "text/plain": [
       "array([[ True,  True,  True],\n",
       "       [ True,  True,  True],\n",
       "       [False, False, False]])"
      ]
     },
     "execution_count": 10,
     "metadata": {},
     "output_type": "execute_result"
    }
   ],
   "source": [
    "# again performing boolean masking \n",
    "\n",
    "again = reshape < 6\n",
    "again"
   ]
  },
  {
   "cell_type": "raw",
   "id": "de4508f7",
   "metadata": {},
   "source": [
    "Where ever the values are less than 6 it has given an True boolean value on that particular index position  and rest of are False because they are greater than 6 "
   ]
  },
  {
   "cell_type": "markdown",
   "id": "13816261",
   "metadata": {},
   "source": [
    "# Boolean Indexing  i.e boolean [indexing] [ ]\n",
    "\n",
    "Boolean Indexing ([indexing]) allows us to filter out some subset from the  array or dataset \n",
    "\n",
    "Basically in Boolean Indexing  only we can take filter  out element  based on specific condition i.e <,> == ,<=, != etc \n",
    "\n",
    "In the  boolean masking  it gives only boolean values to see this boolean values in the form of  numberical values or string values we can make use of the Boolean Indexing i.e. by applying a simple [] indexing and indexing is  denoted as []  as we know already "
   ]
  },
  {
   "cell_type": "code",
   "execution_count": 17,
   "id": "1b70acd9",
   "metadata": {},
   "outputs": [
    {
     "data": {
      "text/plain": [
       "array([0, 1, 2, 3, 4, 5, 6, 7, 8])"
      ]
     },
     "metadata": {},
     "output_type": "display_data"
    },
    {
     "data": {
      "text/plain": [
       "array([False, False, False, False, False, False,  True,  True,  True])"
      ]
     },
     "metadata": {},
     "output_type": "display_data"
    }
   ],
   "source": [
    "# calling the same okay and masking variable\n",
    "\n",
    "display(okay,masking)\n",
    "\n"
   ]
  },
  {
   "cell_type": "raw",
   "id": "d5c25230",
   "metadata": {},
   "source": [
    "In the above value we get inly boolean array value in the form of true false  to see value in this we use boolean indexing lets see in the bleow codes\n"
   ]
  },
  {
   "cell_type": "code",
   "execution_count": 28,
   "id": "5c145ced",
   "metadata": {},
   "outputs": [
    {
     "data": {
      "text/plain": [
       "array([6, 7, 8])"
      ]
     },
     "execution_count": 28,
     "metadata": {},
     "output_type": "execute_result"
    }
   ],
   "source": [
    "# Now on the same array perfoming the Boolean indexing to see its values in numerical form\n",
    "\n",
    "boolean_indexing = okay[masking] # here okay contain  all arrays and masking variable contain boolean array i.e true ,false\n",
    "boolean_indexing"
   ]
  },
  {
   "cell_type": "code",
   "execution_count": 29,
   "id": "eb33c974",
   "metadata": {},
   "outputs": [
    {
     "data": {
      "text/plain": [
       "array([0, 1, 2, 3, 4, 5])"
      ]
     },
     "execution_count": 29,
     "metadata": {},
     "output_type": "execute_result"
    }
   ],
   "source": [
    "# masking on the reshape varibale \n",
    "reshape[again]"
   ]
  },
  {
   "cell_type": "code",
   "execution_count": 30,
   "id": "25bb9514",
   "metadata": {},
   "outputs": [
    {
     "data": {
      "text/plain": [
       "array([0, 1, 2, 3, 4, 5, 6, 7, 8])"
      ]
     },
     "metadata": {},
     "output_type": "display_data"
    },
    {
     "data": {
      "text/plain": [
       "array([False, False, False, False, False, False,  True,  True,  True])"
      ]
     },
     "metadata": {},
     "output_type": "display_data"
    },
    {
     "data": {
      "text/plain": [
       "array([[0, 1, 2],\n",
       "       [3, 4, 5],\n",
       "       [6, 7, 8]])"
      ]
     },
     "metadata": {},
     "output_type": "display_data"
    },
    {
     "data": {
      "text/plain": [
       "array([[ True,  True,  True],\n",
       "       [ True,  True,  True],\n",
       "       [False, False, False]])"
      ]
     },
     "metadata": {},
     "output_type": "display_data"
    },
    {
     "data": {
      "text/plain": [
       "array([6, 7, 8])"
      ]
     },
     "metadata": {},
     "output_type": "display_data"
    },
    {
     "data": {
      "text/plain": [
       "array([0, 1, 2, 3, 4, 5])"
      ]
     },
     "metadata": {},
     "output_type": "display_data"
    }
   ],
   "source": [
    "# seeing all the data  at one place together \n",
    "display(okay ,masking,reshape,again,boolean_indexing,reshape[again])"
   ]
  },
  {
   "cell_type": "raw",
   "id": "04e19437",
   "metadata": {},
   "source": [
    "As you can see the masking variable output it in the boolean array and when we have applied boolean indexing [ ] it has fetch the elemnt which has only true index position  value  and same things for the others also."
   ]
  },
  {
   "cell_type": "markdown",
   "id": "e1743065",
   "metadata": {},
   "source": [
    "# I think the above things are some confusing so for that im going to crate a new numpy array  and  then we will perform the Boolean Indexing"
   ]
  },
  {
   "cell_type": "code",
   "execution_count": 40,
   "id": "5a4893b9",
   "metadata": {},
   "outputs": [
    {
     "data": {
      "text/plain": [
       "array([ 0,  1,  2,  3,  4,  5,  6,  7,  8,  9, 10, 11, 12, 13, 14])"
      ]
     },
     "execution_count": 40,
     "metadata": {},
     "output_type": "execute_result"
    }
   ],
   "source": [
    "# creating a numpy arrays  to perform boolean indexing [ ]\n",
    "\n",
    "hey = np.arange(15)\n",
    "hey"
   ]
  },
  {
   "cell_type": "code",
   "execution_count": 43,
   "id": "c275fb43",
   "metadata": {},
   "outputs": [
    {
     "data": {
      "text/plain": [
       "array([False, False, False, False, False, False,  True,  True,  True,\n",
       "        True,  True,  True,  True,  True,  True])"
      ]
     },
     "execution_count": 43,
     "metadata": {},
     "output_type": "execute_result"
    }
   ],
   "source": [
    "# now perfoming the boolean masking which gives output in true or false like truth table\n",
    "\n",
    "goat = hey>5 \n",
    "goat"
   ]
  },
  {
   "cell_type": "code",
   "execution_count": 44,
   "id": "f682f39a",
   "metadata": {},
   "outputs": [
    {
     "data": {
      "text/plain": [
       "array([ 6,  7,  8,  9, 10, 11, 12, 13, 14])"
      ]
     },
     "execution_count": 44,
     "metadata": {},
     "output_type": "execute_result"
    }
   ],
   "source": [
    "# now perfoming the boolean indexing [ ] which shows only True values corresponding to its position index\n",
    "\n",
    "indexing = hey[goat]\n",
    "indexing\n"
   ]
  },
  {
   "cell_type": "raw",
   "id": "9e5e1adf",
   "metadata": {},
   "source": [
    "Instead of doing like that we can also directly perform boolean indexing by skiping the masking part i have perform  to understand clearly what goin on behind its somtimes we forgot the some basic concept  so for that reason i have done like that. "
   ]
  },
  {
   "cell_type": "code",
   "execution_count": 63,
   "id": "412d7fe5",
   "metadata": {},
   "outputs": [
    {
     "data": {
      "text/plain": [
       "array([[0, 1, 2, 3, 4],\n",
       "       [5, 6, 7, 8, 9]])"
      ]
     },
     "execution_count": 63,
     "metadata": {},
     "output_type": "execute_result"
    }
   ],
   "source": [
    "# creating 2D array \n",
    "\n",
    "two_d = np.arange(10).reshape(2,5)\n",
    "two_d"
   ]
  },
  {
   "cell_type": "code",
   "execution_count": 125,
   "id": "776766bc",
   "metadata": {},
   "outputs": [
    {
     "data": {
      "text/plain": [
       "array([0, 1, 2])"
      ]
     },
     "execution_count": 125,
     "metadata": {},
     "output_type": "execute_result"
    }
   ],
   "source": [
    "# now perfoming the boolean indexing [ ]  which fecth true values index value\n",
    "\n",
    "boat = two_d[two_d<3]\n",
    "boat"
   ]
  },
  {
   "cell_type": "markdown",
   "id": "7e14485b",
   "metadata": {},
   "source": [
    "# Perfoming boolean indexing using bitwise Boolean operators in numpy \n",
    "\n",
    "& np.bitwise_and in this if both values are true then it will give output\n",
    "\n",
    "| np.bitwise_or in this if one values is true then it give output \n",
    "\n",
    "^ np.bitwise_xor\n",
    "\n",
    "~ np.bitwise_not in this it fill revert opposite output "
   ]
  },
  {
   "cell_type": "code",
   "execution_count": 83,
   "id": "9ae29c44",
   "metadata": {},
   "outputs": [
    {
     "data": {
      "text/plain": [
       "array([ 0,  1,  2,  3,  4,  5,  6,  7,  8,  9, 10, 11, 12, 13, 14, 15, 16,\n",
       "       17, 18, 19])"
      ]
     },
     "execution_count": 83,
     "metadata": {},
     "output_type": "execute_result"
    }
   ],
   "source": [
    "# making a array of  2d \n",
    "\n",
    "lets = np.arange(20)\n",
    "lets"
   ]
  },
  {
   "cell_type": "code",
   "execution_count": 139,
   "id": "d437b000",
   "metadata": {},
   "outputs": [
    {
     "data": {
      "text/plain": [
       "array([ 6,  7,  8,  9, 10, 11, 12, 13, 14, 15, 16, 17, 18, 19])"
      ]
     },
     "execution_count": 139,
     "metadata": {},
     "output_type": "execute_result"
    }
   ],
   "source": [
    "# now performing  & bitise operation \n",
    "\n",
    "bitwise = lets[(lets>5) | (lets>10)]\n",
    "bitwise"
   ]
  },
  {
   "cell_type": "code",
   "execution_count": 123,
   "id": "b63a7212",
   "metadata": {},
   "outputs": [
    {
     "data": {
      "text/plain": [
       "array([11, 12, 13, 14, 15, 16, 17, 18, 19])"
      ]
     },
     "execution_count": 123,
     "metadata": {},
     "output_type": "execute_result"
    }
   ],
   "source": [
    "c =lets[(lets>5)  & (lets>10)]\n",
    "c"
   ]
  },
  {
   "cell_type": "code",
   "execution_count": 151,
   "id": "db119ffa",
   "metadata": {},
   "outputs": [
    {
     "data": {
      "text/plain": [
       "array([11, 12, 13, 14, 15, 16, 17, 18, 19])"
      ]
     },
     "execution_count": 151,
     "metadata": {},
     "output_type": "execute_result"
    }
   ],
   "source": [
    "lets[lets[(lets>5)  & (lets>10)]]"
   ]
  },
  {
   "cell_type": "code",
   "execution_count": 156,
   "id": "594bae6a",
   "metadata": {},
   "outputs": [
    {
     "data": {
      "text/plain": [
       "array([0, 1, 2, 3, 4])"
      ]
     },
     "execution_count": 156,
     "metadata": {},
     "output_type": "execute_result"
    }
   ],
   "source": [
    "lets[lets[(lets<5) | (lets>20)]]"
   ]
  },
  {
   "cell_type": "code",
   "execution_count": null,
   "id": "9ef79a96",
   "metadata": {},
   "outputs": [],
   "source": []
  }
 ],
 "metadata": {
  "kernelspec": {
   "display_name": "Python 3 (ipykernel)",
   "language": "python",
   "name": "python3"
  },
  "language_info": {
   "codemirror_mode": {
    "name": "ipython",
    "version": 3
   },
   "file_extension": ".py",
   "mimetype": "text/x-python",
   "name": "python",
   "nbconvert_exporter": "python",
   "pygments_lexer": "ipython3",
   "version": "3.9.12"
  }
 },
 "nbformat": 4,
 "nbformat_minor": 5
}
